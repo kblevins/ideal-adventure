{
 "cells": [
  {
   "cell_type": "code",
   "execution_count": 3,
   "metadata": {},
   "outputs": [
    {
     "name": "stdout",
     "output_type": "stream",
     "text": [
      "25bc90a1196e6f153eece0bc0b0fc9eb\n"
     ]
    }
   ],
   "source": [
    "# Dependencies\n",
    "import requests\n",
    "from config import api_key\n",
    "print(api_key)"
   ]
  },
  {
   "cell_type": "code",
   "execution_count": 5,
   "metadata": {},
   "outputs": [
    {
     "data": {
      "text/plain": [
       "{'base': 'stations',\n",
       " 'clouds': {'all': 48},\n",
       " 'cod': 200,\n",
       " 'coord': {'lat': -3.38, 'lon': 29.36},\n",
       " 'dt': 1510278442,\n",
       " 'id': 425378,\n",
       " 'main': {'grnd_level': 856.26,\n",
       "  'humidity': 100,\n",
       "  'pressure': 856.26,\n",
       "  'sea_level': 1023.7,\n",
       "  'temp': 15.52,\n",
       "  'temp_max': 15.52,\n",
       "  'temp_min': 15.52},\n",
       " 'name': 'Bujumbura',\n",
       " 'sys': {'country': 'BI',\n",
       "  'message': 0.1802,\n",
       "  'sunrise': 1510285124,\n",
       "  'sunset': 1510329252},\n",
       " 'weather': [{'description': 'scattered clouds',\n",
       "   'icon': '03n',\n",
       "   'id': 802,\n",
       "   'main': 'Clouds'}],\n",
       " 'wind': {'deg': 36.5006, 'speed': 1.52}}"
      ]
     },
     "execution_count": 5,
     "metadata": {},
     "output_type": "execute_result"
    }
   ],
   "source": [
    "# Save config information.\n",
    "url = \"http://api.openweathermap.org/data/2.5/weather?\"\n",
    "city = \"Bujumbura\"\n",
    "units = \"metric\"\n",
    "\n",
    "params = {\n",
    "    \"appid\": api_key,\n",
    "    \"q\": city,\n",
    "    \"units\": units\n",
    "}\n",
    "# Build query URL and request your results in Celsius\n",
    "# query_url = url + \"appid=\" + api_key + \"&q=\" + city + \"&units=\" + units\n",
    "\n",
    "# Get weather data\n",
    "weather_response = requests.get(url, params=params)\n",
    "weather_json = weather_response.json()\n",
    "weather_json"
   ]
  },
  {
   "cell_type": "code",
   "execution_count": 2,
   "metadata": {},
   "outputs": [
    {
     "name": "stdout",
     "output_type": "stream",
     "text": [
      "The temperature in Bujumbura is 15.52.\n"
     ]
    }
   ],
   "source": [
    "# Get temperature from JSON response\n",
    "temperature = weather_json[\"main\"][\"temp\"]\n",
    "\n",
    "# Report temperature\n",
    "print(\"The temperature in Bujumbura is \" + str(temperature) + \".\")"
   ]
  }
 ],
 "metadata": {
  "kernelspec": {
   "display_name": "Python 3",
   "language": "python",
   "name": "python3"
  },
  "language_info": {
   "codemirror_mode": {
    "name": "ipython",
    "version": 3
   },
   "file_extension": ".py",
   "mimetype": "text/x-python",
   "name": "python",
   "nbconvert_exporter": "python",
   "pygments_lexer": "ipython3",
   "version": "3.6.3"
  },
  "varInspector": {
   "cols": {
    "lenName": 16,
    "lenType": 16,
    "lenVar": 40
   },
   "kernels_config": {
    "python": {
     "delete_cmd_postfix": "",
     "delete_cmd_prefix": "del ",
     "library": "var_list.py",
     "varRefreshCmd": "print(var_dic_list())"
    },
    "r": {
     "delete_cmd_postfix": ") ",
     "delete_cmd_prefix": "rm(",
     "library": "var_list.r",
     "varRefreshCmd": "cat(var_dic_list()) "
    }
   },
   "types_to_exclude": [
    "module",
    "function",
    "builtin_function_or_method",
    "instance",
    "_Feature"
   ],
   "window_display": false
  }
 },
 "nbformat": 4,
 "nbformat_minor": 2
}
