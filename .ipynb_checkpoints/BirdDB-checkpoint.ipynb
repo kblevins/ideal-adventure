{
 "cells": [
  {
   "cell_type": "code",
   "execution_count": 1,
   "metadata": {
    "collapsed": true
   },
   "outputs": [],
   "source": [
    "# Import dependencies\n",
    "import pandas as pd\n",
    "import sqlalchemy\n",
    "from sqlalchemy import create_engine, MetaData\n",
    "from sqlalchemy.ext.declarative import declarative_base\n",
    "from sqlalchemy import Column, Integer, String, Numeric, Text, Float, ForeignKey, Boolean\n",
    "from sqlalchemy.orm import sessionmaker, relationship"
   ]
  },
  {
   "cell_type": "code",
   "execution_count": 2,
   "metadata": {
    "collapsed": true
   },
   "outputs": [],
   "source": [
    "# Create engine\n",
    "engine = create_engine(\"sqlite:///birds.sqlite\")"
   ]
  },
  {
   "cell_type": "code",
   "execution_count": 3,
   "metadata": {
    "collapsed": true
   },
   "outputs": [],
   "source": [
    "# Declaring a base object to model the table as an ORM class\n",
    "Base = declarative_base()"
   ]
  },
  {
   "cell_type": "code",
   "execution_count": 4,
   "metadata": {
    "collapsed": true
   },
   "outputs": [],
   "source": [
    "# Define ORM class for `speciesList` table\n",
    "class Species(Base):\n",
    "    \n",
    "    __tablename__ = 'species'\n",
    "\n",
    "    id = Column(Integer, primary_key=True)\n",
    "    Scientific_Name = Column(Text)\n",
    "    Common_Name = Column(Text)\n",
    "    Common_Name2 = Column(Text)\n",
    "    Species_Code = Column(Text)\n",
    "    Order = Column(Text)\n",
    "    Audio_URL = Column(Text)\n",
    "    Img_URL = Column(Text)\n",
    "    Info_URL = Column(Text)\n",
    "    \n",
    "    def __repr__(self):\n",
    "        return f\"id={self.id}, name={self.ScientificName}\""
   ]
  },
  {
   "cell_type": "code",
   "execution_count": 5,
   "metadata": {
    "collapsed": true
   },
   "outputs": [],
   "source": [
    "# Define ORM class for `states_centroid` table\n",
    "class StateCentroids(Base):\n",
    "    \n",
    "    __tablename__ = 'state_centroids'\n",
    "\n",
    "    id = Column(Integer, primary_key=True)\n",
    "    state_abbr = Column(Text)\n",
    "    state = Column(Text)\n",
    "    center_lat = Column(Float)\n",
    "    center_lng = Column(Float)\n",
    "    zoom = Column(Integer)\n",
    "    \n",
    "    def __repr__(self):\n",
    "        return f\"id={self.id}, name={self.state_abbr}\""
   ]
  },
  {
   "cell_type": "code",
   "execution_count": 6,
   "metadata": {
    "collapsed": true
   },
   "outputs": [],
   "source": [
    "# Define ORM class for `states_centroid` table\n",
    "class Regions(Base):\n",
    "    \n",
    "    __tablename__ = 'region_centroids'\n",
    "\n",
    "    id = Column(Integer, primary_key=True)\n",
    "    Region = Column(Text)\n",
    "    Lat = Column(Float)\n",
    "    Lng = Column(Float)\n",
    "    Zoom = Column(Integer)\n",
    "    \n",
    "    def __repr__(self):\n",
    "        return f\"id={self.id}, name={self.Region}\""
   ]
  },
  {
   "cell_type": "code",
   "execution_count": 7,
   "metadata": {
    "collapsed": true
   },
   "outputs": [],
   "source": [
    "# !rm birds.sqlite"
   ]
  },
  {
   "cell_type": "code",
   "execution_count": 8,
   "metadata": {
    "collapsed": true
   },
   "outputs": [],
   "source": [
    "# Creating the table with `create_all`\n",
    "Base.metadata.create_all(engine)"
   ]
  },
  {
   "cell_type": "code",
   "execution_count": 9,
   "metadata": {},
   "outputs": [
    {
     "data": {
      "text/plain": [
       "['region_centroids', 'species', 'state_centroids']"
      ]
     },
     "execution_count": 9,
     "metadata": {},
     "output_type": "execute_result"
    }
   ],
   "source": [
    "# Verifying table names in the database\n",
    "engine.table_names()"
   ]
  },
  {
   "cell_type": "code",
   "execution_count": 10,
   "metadata": {
    "collapsed": true
   },
   "outputs": [],
   "source": [
    "# Bulk insert each file into their respective table\n",
    "def populate_table(engine, table, csvfile):\n",
    "    \"\"\"Populates a table from a Pandas DataFrame.\"\"\"\n",
    "    # connect to the database\n",
    "    conn = engine.connect()\n",
    "    \n",
    "    # Load the CSV file into a pandas dataframe \n",
    "    df_of_data_to_insert = pd.read_csv(csvfile, encoding = \"utf8\")\n",
    "    \n",
    "    # Orient='records' creates a list of data to write\n",
    "    # http://pandas-docs.github.io/pandas-docs-travis/io.html#orient-options\n",
    "    data = df_of_data_to_insert.to_dict(orient='records')\n",
    "\n",
    "    # Optional: Delete all rows in the table \n",
    "    conn.execute(table.delete())\n",
    "\n",
    "    # Insert the dataframe into the database in one bulk insert\n",
    "    conn.execute(table.insert(), data)\n",
    "    \n",
    "# Call the function to insert the data for each table\n",
    "populate_table(engine, Regions.__table__, 'data/region_centroids.csv')\n",
    "populate_table(engine, Species.__table__, 'data/scraped_us.csv')\n",
    "populate_table(engine, StateCentroids.__table__, 'data/state_centroids.csv')"
   ]
  },
  {
   "cell_type": "code",
   "execution_count": 11,
   "metadata": {},
   "outputs": [
    {
     "data": {
      "text/plain": [
       "[(1, 'Pacific Northwest ', 45.749471, -120.614503, 4),\n",
       " (2, 'Northern Plains ', 44.977582, -107.958253, 4),\n",
       " (3, 'Pacific Southwest ', 38.935396000000004, -120.02246299999999, 4),\n",
       " (4, 'Central Plains ', 38.935395, -98.555178, 4),\n",
       " (5, 'Southern Rockies ', 38.935395, -98.555178, 4)]"
      ]
     },
     "execution_count": 11,
     "metadata": {},
     "output_type": "execute_result"
    }
   ],
   "source": [
    "# Basic query to ensure data was entered correctly into the table `regions`\n",
    "engine.execute(\"SELECT * FROM region_centroids LIMIT 5\").fetchall()"
   ]
  },
  {
   "cell_type": "code",
   "execution_count": 12,
   "metadata": {},
   "outputs": [
    {
     "data": {
      "text/plain": [
       "[(1, 'Dendrocygna autumnalis', 'Black-bellied Whistling-Duck', 'Black-bellied Whistling-Duck', 'bbwduc', 'Anseriformes', 'https://s3.amazonaws.com/com-aab-media/sound/521823.mp3', 's3.amazonaws.com/com-aab-media/photo/75260001-1280px.jpg', 'https://www.allaboutbirds.org/guide/Black-bellied_Whistling-Duck'),\n",
       " (2, 'Branta bernicla', 'Brant', 'Brant', 'brant', 'Anseriformes', 'https://s3.amazonaws.com/com-aab-media/sound/521829.mp3', 's3.amazonaws.com/com-aab-media/photo/75266691-1280px.jpg', 'https://www.allaboutbirds.org/guide/Brant'),\n",
       " (3, 'Dendrocygna bicolor', 'Fulvous Whistling-Duck', 'Fulvous Whistling-Duck', 'fuwduc', 'Anseriformes', 'https://s3.amazonaws.com/com-aab-media/sound/521824.mp3', 's3.amazonaws.com/com-aab-media/photo/75360781-1280px.jpg', 'https://www.allaboutbirds.org/guide/Fulvous_Whistling-Duck'),\n",
       " (4, 'Aythya americana', 'Redhead', 'Redhead', 'redhea', 'Anseriformes', 'https://s3.amazonaws.com/com-aab-media/sound/521870.mp3', 's3.amazonaws.com/com-aab-media/photo/75714891-1280px.jpg', 'https://www.allaboutbirds.org/guide/Redhead'),\n",
       " (5, 'Melozone aberti', 'Aberts towhee', \"Abert's towhee\", 'abetow', 'Passeriformes', 'https://s3.amazonaws.com/com-aab-media/sound/523001.mp3', 's3.amazonaws.com/com-aab-media/photo/75223601-1280px.jpg', 'https://www.allaboutbirds.org/guide/Aberts_towhee')]"
      ]
     },
     "execution_count": 12,
     "metadata": {},
     "output_type": "execute_result"
    }
   ],
   "source": [
    "# Basic query to ensure data was entered correctly into the table `species`\n",
    "engine.execute(\"SELECT * FROM species LIMIT 5\").fetchall()"
   ]
  },
  {
   "cell_type": "code",
   "execution_count": 13,
   "metadata": {},
   "outputs": [
    {
     "data": {
      "text/plain": [
       "[(1, 'AL', 'Alabama', 32.7794, -86.8287, 5),\n",
       " (2, 'AK', 'Alaska', 64.0685, -152.2782, 6),\n",
       " (3, 'AZ', 'Arizona', 34.2744, -111.6602, 5),\n",
       " (4, 'AR', 'Arkansas', 34.8938, -92.4426, 5),\n",
       " (5, 'CA', 'California', 37.1841, -119.4696, 5)]"
      ]
     },
     "execution_count": 13,
     "metadata": {},
     "output_type": "execute_result"
    }
   ],
   "source": [
    "# Basic query to ensure data was entered correctly into the table `species`\n",
    "engine.execute(\"SELECT * FROM state_centroids LIMIT 5\").fetchall()"
   ]
  },
  {
   "cell_type": "code",
   "execution_count": null,
   "metadata": {
    "collapsed": true
   },
   "outputs": [],
   "source": []
  }
 ],
 "metadata": {
  "kernelspec": {
   "display_name": "Python 3",
   "language": "python",
   "name": "python3"
  },
  "language_info": {
   "codemirror_mode": {
    "name": "ipython",
    "version": 3
   },
   "file_extension": ".py",
   "mimetype": "text/x-python",
   "name": "python",
   "nbconvert_exporter": "python",
   "pygments_lexer": "ipython3",
   "version": "3.6.2"
  }
 },
 "nbformat": 4,
 "nbformat_minor": 2
}
