{
 "cells": [
  {
   "cell_type": "code",
   "execution_count": 1,
   "metadata": {
    "collapsed": true
   },
   "outputs": [],
   "source": [
    "## import dependencies\n",
    "import pandas as pd\n",
    "import requests\n",
    "import plotly.plotly"
   ]
  },
  {
   "cell_type": "code",
   "execution_count": 2,
   "metadata": {
    "collapsed": true
   },
   "outputs": [],
   "source": [
    "## function to fetch 30 days worth of data for a state, \n",
    "## subset by the top 10 sites with the most # of species\n",
    "## return json object with location name, lat longs, & # \n",
    "## of species & json object with top 5 most observed birds \n",
    "## at each location \n",
    "def getStateData(state):\n",
    "\n",
    "    # Part 1 - Get data\n",
    "    # set url, token, & request data\n",
    "    url = f\"https://ebird.org/ws2.0/data/obs/US-{state}/recent/?back=30\"\n",
    "    headers = {'X-eBirdApiToken': 'oos4bb9k3art'}\n",
    "    response = requests.request(\"GET\", url, headers=headers)\n",
    "\n",
    "    # Part 2 - Get top 10 locations\n",
    "    # store reponse test\n",
    "    data = response.text\n",
    "    # replace true & false\n",
    "    data = data.replace('true', 'True')\n",
    "    data = data.replace('false', 'False')\n",
    "    # get list out of string\n",
    "    data = eval(data)\n",
    "    # convert to pandas df\n",
    "    df = pd.DataFrame(data)\n",
    "\n",
    "    return(df)\n",
    "\n",
    "def getTop10(df):\n",
    "    # create subset of columns to evaluate\n",
    "    df_s = df.loc[:,['locName', 'lat', 'lng','comName']]\n",
    "    # remove duplicate records\n",
    "    df_s = df_s.drop_duplicates()\n",
    "    # create count of species observations from each location\n",
    "    counts = df_s.groupby(['locName', 'lat', 'lng'])['locName'].count()\n",
    "    # sort by the species count\n",
    "    counts = counts.sort_values(ascending = False)\n",
    "    # subset for top 10\n",
    "    top_ten = counts[0:10]\n",
    "    # rename the series\n",
    "    top_ten = top_ten.rename('species_number')\n",
    "    # convert series to dataframe\n",
    "    top_ten = pd.DataFrame(top_ten)\n",
    "    # reset index\n",
    "    top_ten = top_ten.reset_index()\n",
    "    # convert to json\n",
    "    top_tenj = top_ten.to_json(orient='records', force_ascii=False)\n",
    "    top_tenj = top_tenj.replace(\"\\\\\",\"\")\n",
    "    return(top_tenj)\n",
    "\n",
    "    # Part 3 - Get top 5 species at each location\n",
    "    # subset original df for the top 10 locations\n",
    "def getBirds(df):\n",
    "    sp = df.loc[:,['comName', 'howMany', 'locName']]\n",
    "    # group species to sum the total # of each species \n",
    "    # has been recorded at that location\n",
    "    sp = pd.DataFrame(sp.groupby(['comName'])['howMany'].sum())\n",
    "    # reset index\n",
    "    sp = sp.reset_index()\n",
    "    # sort by location name & howMany\n",
    "    sp = sp.sort_values(by = ['howMany'], ascending = False)\n",
    "    # filter for species level identifications\n",
    "    spFilter = sp.comName.str.contains('sp\\\\.')\n",
    "    spFilter = spFilter[spFilter == False]\n",
    "    spLevel = sp.filter(items = spFilter.index, axis=0)\n",
    "    # subset for top 5 species at each location\n",
    "    topsp = spLevel.head(5)\n",
    "    # convert to json\n",
    "    topsp_j = topsp.to_json(orient='records', force_ascii=False)\n",
    "    topsp_j = topsp_j.replace(\"\\\\\",\"\")\n",
    "    topsp_j\n",
    "\n",
    "    return(topsp_j)"
   ]
  },
  {
   "cell_type": "code",
   "execution_count": 8,
   "metadata": {
    "collapsed": true
   },
   "outputs": [],
   "source": [
    "df = getStateData(\"TX\")"
   ]
  },
  {
   "cell_type": "code",
   "execution_count": 20,
   "metadata": {},
   "outputs": [
    {
     "data": {
      "text/plain": [
       "(524, 4)"
      ]
     },
     "execution_count": 20,
     "metadata": {},
     "output_type": "execute_result"
    }
   ],
   "source": []
  },
  {
   "cell_type": "code",
   "execution_count": 21,
   "metadata": {},
   "outputs": [
    {
     "data": {
      "text/plain": [
       "(524, 4)"
      ]
     },
     "execution_count": 21,
     "metadata": {},
     "output_type": "execute_result"
    }
   ],
   "source": []
  },
  {
   "cell_type": "code",
   "execution_count": 24,
   "metadata": {},
   "outputs": [
    {
     "data": {
      "text/plain": [
       "locName                                                                 lat        lng        \n",
       "(25.952, -97.335)                                                       25.951580  -97.335213     1\n",
       "(26.152, -97.625)                                                       26.152337  -97.625171     1\n",
       "(28.8368,-96.5668)                                                      28.836764  -96.566812     1\n",
       "(35.5415,-101.7299)                                                     35.541515  -101.729877    1\n",
       "1001–1299 County Road 622, Dayton US-TX (30.0638,-95.0125)              30.063816  -95.012499     1\n",
       "1100 Folsom Rd, Amarillo US-TX (35.2247,-101.7238)                      35.224687  -101.723764    3\n",
       "11705–12043 S Highway 36, Brazoria US-TX (28.9916,-95.5241)             28.991597  -95.524121     1\n",
       "1215 Cave Speings Drive                                                 30.049547  -98.236828     1\n",
       "1302 Greenhill Drive, Canyon Lake, Texas, US (29.883, -98.27)           29.882888  -98.270391     1\n",
       "1315 Lehman St. - yard                                                  29.838787  -95.429746     1\n",
       "13319-14095 U.S. 57, Pearsall, Texas, US (28.969, -99.246)              28.969233  -99.246261     1\n",
       "13501 Queen Johanna Ct                                                  27.611946  -97.242222     1\n",
       "1420 & 2100                                                             26.424234  -97.601080     5\n",
       "1515 S Medio River Cir                                                  29.603834  -95.589375     3\n",
       "17423 W. Blooming Rose Ct.                                              30.005118  -95.689829     1\n",
       "2 Stillforest St, Piney Point Village US-TX (29.7499,-95.5144)          29.749910  -95.514396     1\n",
       "2380–2698 County Road 309, Lexington US-TX (30.3280,-97.1027)           30.327994  -97.102726     2\n",
       "2413–2449 E Sprague St, Edinburg US-TX (26,2909,-98,1353)               26.290905  -98.135305     1\n",
       "2918 on refuge                                                          28.909009  -95.538998     1\n",
       "3434 Tree Ln, Houston US-TX (30.0568,-95.1983)                          30.056752  -95.198309     1\n",
       "3646 Monterrey St.                                                      27.748606  -97.379867     1\n",
       "3650 CR 437 Cherokee, TX                                                30.962714  -98.680902     1\n",
       "37&410                                                                  29.328911  -98.416171     1\n",
       "424 Margaret Drive, Marshall, Texas, US (32.574, -94.434)               32.574415  -94.434097     1\n",
       "473 County Road 473, Thrall US-TX (30.5164,-97.2463)                    30.516357  -97.246307     1\n",
       "481 gato del Sol Avenue, Dripping Springs, Texas, US (30.208, -98.013)  30.208227  -98.012893     2\n",
       "507 Wildwood Drive, Seabrook, Texas, US (29.568, -95.061)               29.568472  -95.061218     1\n",
       "5251 Everman Kennedale Road, Fort Worth, Texas, US (32.638, -97.243)    32.638261  -97.242832     1\n",
       "5283–5349 State Highway 35 S, Palacios US-TX (28.7375,-96.4014)         28.737536  -96.401411     4\n",
       "5428 Park Plaza Dr, Houston US-TX (29.8464,-95.4215)                    29.846436  -95.421524     1\n",
       "                                                                                                 ..\n",
       "Texas City Dike (UTC 074)                                               29.383895  -94.867115     1\n",
       "The Woodlands- Lakeside Park                                            30.201134  -95.541390     1\n",
       "Tibiletti Rd                                                            28.802460  -97.038326     2\n",
       "Tiocano Lake (LTC 017)                                                  26.215823  -97.816601     1\n",
       "Tonto                                                                   31.843805  -106.442242    1\n",
       "Tyrrell Park--Cattail Marsh                                             30.007423  -94.140043     6\n",
       "US-90 E                                                                 30.212745  -103.078481    1\n",
       "US-TX-Houston-12800 Briar Forest Dr - 29.7572x-95.6148                  29.757160  -95.614850     1\n",
       "US-TX-Medina-78055 - 29.7807x-99.2859                                   29.780684  -99.285950     1\n",
       "US-TX-Mission-78572 - 26.4771x-98.4374                                  26.477110  -98.437420     1\n",
       "US-TX-Plano-Bob Woodruff Park - 33.0367x-96.6602                        33.036742  -96.660192     2\n",
       "US-Texas-McAllen-5105 Jasmine Ct - 26.218x-98.275                       26.217790  -98.275275     1\n",
       "Univ. of Houston, Clear Lake--Nature Trail                              29.580751  -95.097856     2\n",
       "Victoria- Riverside Park (CTC 027)                                      28.809558  -97.031765     1\n",
       "Village Creek Drying Beds (PPW-W 083)                                   32.784279  -97.126618     1\n",
       "Wallisville Lake Project--Trinity River Rookery (UTC 043)               29.836538  -94.758245     6\n",
       "Warbler Woods                                                           29.609375  -98.242683     1\n",
       "Waste Management Wildlife Habitat Pk (Travis)                           30.345954  -97.642837     3\n",
       "Weslaco - 909-1001 Stone St.                                            26.156146  -97.999184     1\n",
       "West 11th Street Park                                                   29.790225  -95.423540     1\n",
       "West G. Jones State Forest Trail, Conroe, Texas, US (30.236, -95.484)   30.235521  -95.484114     1\n",
       "West Gin Pasture                                                        30.946183  -96.694144     1\n",
       "Whisperwood Pond, Lubbock                                               33.591378  -101.909701    2\n",
       "White Rock Lake--Sunset Bay area                                        32.833731  -96.712131     2\n",
       "Wolf Springs Rd (incl. Blue Sky Sod Farm)                               32.559040  -96.587076     2\n",
       "Woodland Heights, Houston                                               29.785357  -95.378135     1\n",
       "Zapata County Landfill                                                  27.037722  -99.419360     2\n",
       "Zapata Library / City Park (LTC 085)                                    26.902199  -99.271061     1\n",
       "safari                                                                  32.127597  -95.735309     1\n",
       "white rock lake                                                         32.838590  -96.712191     1\n",
       "Name: locName, Length: 286, dtype: int64"
      ]
     },
     "execution_count": 24,
     "metadata": {},
     "output_type": "execute_result"
    }
   ],
   "source": []
  },
  {
   "cell_type": "code",
   "execution_count": 25,
   "metadata": {},
   "outputs": [
    {
     "data": {
      "text/plain": [
       "locName                                                          lat        lng        \n",
       "South Padre Is.--WBC/Conv. Center/Laguna Madre Trail (LTC 035)   26.140091  -97.174823     19\n",
       "Salineño Wildlife Preserve (LTC 080)                             26.514858  -99.116206     13\n",
       "Galveston--Moody Gardens                                         29.274486  -94.854309     11\n",
       "Columbus, TX  78934, Columbus US-TX (29.8000,-96.5433)           29.800024  -96.543304      9\n",
       "River Legacy Park                                                32.782845  -97.116317      8\n",
       "Estero Llano Grande SP WBC (LTC 054)                             26.126030  -97.955917      8\n",
       "Sarita Rest Area (US77)(LTC 003)                                 27.133129  -97.792740      7\n",
       "South Padre Is.--Birding and Nature Center                       26.137486  -97.173557      7\n",
       "Hargill Playa (Hidalgo Co.)                                      26.446927  -98.006430      7\n",
       "Home                                                             29.657914  -98.664833      6\n",
       "Old Enfield, Austin US-TX (30.2881,-97.7582)                     30.288072  -97.758215      6\n",
       "Plantation Wood Lane                                             29.560679  -95.542872      6\n",
       "Davis Mountains  SP (FWTX 23)                                    30.596271  -103.934725     6\n",
       "Edinburg Scenic Wetlands WBC (LTC 061)                           26.290582  -98.135191      6\n",
       "Tyrrell Park--Cattail Marsh                                      30.007423  -94.140043      6\n",
       "Goose Island SP (CTC 048)                                        28.132550  -96.985052      6\n",
       "Canal Crossong on 1420                                           26.341691  -97.575159      6\n",
       "Falcon State Park (LTC 084)                                      26.583999  -99.147492      6\n",
       "Wallisville Lake Project--Trinity River Rookery (UTC 043)        29.836538  -94.758245      6\n",
       "Corpus Christi--Hans A. Suter WMA (CTC 069)                      27.707122  -97.337296      5\n",
       "Ascarate Park/Lake                                               31.753861  -106.404691     5\n",
       "Davis Mtns--Nature Conservancy Preserve                          30.697121  -104.123268     5\n",
       "Hueco Tanks SP & Historic Site (FWTX 5)                          31.921428  -106.046761     5\n",
       "1420 & 2100                                                      26.424234  -97.601080      5\n",
       "Santa Ana NWR (LTC 059)                                          26.081300  -98.135140      4\n",
       "Kleb Woods Nature Preserve (UTC 098)                             30.072085  -95.739819      4\n",
       "5283–5349 State Highway 35 S, Palacios US-TX (28.7375,-96.4014)  28.737536  -96.401411      4\n",
       "Galveston Island SP (UTC 070)                                    29.195665  -94.955907      4\n",
       "National Butterfly Center--General & area North of Levee         26.176400  -98.365800      4\n",
       "Bass Loop                                                        30.549047  -97.663546      4\n",
       "                                                                                           ..\n",
       "Karnack, TX  75661, Karnack US-TX (32.6677,-94.1660)             32.667660  -94.165980      1\n",
       "Marriott on Amador Dr                                            32.916233  -97.314561      1\n",
       "Lamar Beach Rd                                                   28.145643  -96.973486      1\n",
       "Marble Falls--Johnson Park                                       30.567600  -98.281600      1\n",
       "Manor Road at US183 (& HEB/school area), Austin                  30.315247  -97.663651      1\n",
       "Malone Dr and Redwine Ct                                         32.587265  -97.238572      1\n",
       "Los Lingos Creek to Cedar Hill via 1065 and 97                   34.197134  -101.101856     1\n",
       "Lewisville Lake Park                                             33.070398  -96.991596      1\n",
       "Lee Co.--FM1624                                                  30.378873  -97.072535      1\n",
       "Leakey Hacienda - Private residence                              29.719161  -99.781596      1\n",
       "Lawrence Park / Heights Hike & Bike Trail, Houston               29.783351  -95.407002      1\n",
       "Lavon Lake--Lavonia Park Area                                    33.038195  -96.446162      1\n",
       "Lavaca/Cox Bay S. of TX35                                        28.619864  -96.563001      1\n",
       "Langsbury Dr                                                     29.829078  -95.683289      1\n",
       "Landa Park (HOTE 069)                                            29.711782  -98.135648      1\n",
       "Lakeland Drive                                                   33.111099  -97.012711      1\n",
       "Katy Prairie Conserv.--Indiangrass Preserve                      29.917447  -95.933046      1\n",
       "Lake waco--Lacy Point area                                       31.562726  -97.241728      1\n",
       "Lake Waco Wetlands (PPW-W 028)                                   31.606208  -97.300887      1\n",
       "Lake Tyler--Conc. Area 1 (Lake Tyler Dam) (PPW-E 058)            32.211712  -95.178873      1\n",
       "Lake Tawakoni--Rains Co. beach & CR1480 (limited access)         32.853091  -95.891388      1\n",
       "Lake Meredith (Hutchinson Co.) (PHP 047)                         35.690659  -101.585379     1\n",
       "Laguna Atascosa NWR--Alligator Pond                              26.230164  -97.368801      1\n",
       "Laguna Atascosa NWR (LTC 024)                                    26.245850  -97.380023      1\n",
       "Lady Bird Lake trail                                             30.256361  -97.740122      1\n",
       "La Perla Ranch                                                   27.203500  -99.360900      1\n",
       "La Albada Patch                                                  29.553374  -98.389237      1\n",
       "King Ranch--Norias Division--Center/HQ area                      26.772102  -97.701349      1\n",
       "Keystone Heritage Park (FWTX 6)                                  31.820941  -106.563001     1\n",
       "(25.952, -97.335)                                                25.951580  -97.335213      1\n",
       "Name: locName, Length: 286, dtype: int64"
      ]
     },
     "execution_count": 25,
     "metadata": {},
     "output_type": "execute_result"
    }
   ],
   "source": []
  },
  {
   "cell_type": "code",
   "execution_count": 26,
   "metadata": {},
   "outputs": [
    {
     "data": {
      "text/plain": [
       "locName                                                         lat        lng       \n",
       "South Padre Is.--WBC/Conv. Center/Laguna Madre Trail (LTC 035)  26.140091  -97.174823    19\n",
       "Salineño Wildlife Preserve (LTC 080)                            26.514858  -99.116206    13\n",
       "Galveston--Moody Gardens                                        29.274486  -94.854309    11\n",
       "Columbus, TX  78934, Columbus US-TX (29.8000,-96.5433)          29.800024  -96.543304     9\n",
       "River Legacy Park                                               32.782845  -97.116317     8\n",
       "Estero Llano Grande SP WBC (LTC 054)                            26.126030  -97.955917     8\n",
       "Sarita Rest Area (US77)(LTC 003)                                27.133129  -97.792740     7\n",
       "South Padre Is.--Birding and Nature Center                      26.137486  -97.173557     7\n",
       "Hargill Playa (Hidalgo Co.)                                     26.446927  -98.006430     7\n",
       "Home                                                            29.657914  -98.664833     6\n",
       "Name: locName, dtype: int64"
      ]
     },
     "execution_count": 26,
     "metadata": {},
     "output_type": "execute_result"
    }
   ],
   "source": []
  },
  {
   "cell_type": "code",
   "execution_count": 27,
   "metadata": {
    "scrolled": true
   },
   "outputs": [
    {
     "data": {
      "text/html": [
       "<div>\n",
       "<style>\n",
       "    .dataframe thead tr:only-child th {\n",
       "        text-align: right;\n",
       "    }\n",
       "\n",
       "    .dataframe thead th {\n",
       "        text-align: left;\n",
       "    }\n",
       "\n",
       "    .dataframe tbody tr th {\n",
       "        vertical-align: top;\n",
       "    }\n",
       "</style>\n",
       "<table border=\"1\" class=\"dataframe\">\n",
       "  <thead>\n",
       "    <tr style=\"text-align: right;\">\n",
       "      <th></th>\n",
       "      <th>locName</th>\n",
       "      <th>lat</th>\n",
       "      <th>lng</th>\n",
       "      <th>species_number</th>\n",
       "    </tr>\n",
       "  </thead>\n",
       "  <tbody>\n",
       "    <tr>\n",
       "      <th>0</th>\n",
       "      <td>South Padre Is.--WBC/Conv. Center/Laguna Madre...</td>\n",
       "      <td>26.140091</td>\n",
       "      <td>-97.174823</td>\n",
       "      <td>19</td>\n",
       "    </tr>\n",
       "    <tr>\n",
       "      <th>1</th>\n",
       "      <td>Salineño Wildlife Preserve (LTC 080)</td>\n",
       "      <td>26.514858</td>\n",
       "      <td>-99.116206</td>\n",
       "      <td>13</td>\n",
       "    </tr>\n",
       "    <tr>\n",
       "      <th>2</th>\n",
       "      <td>Galveston--Moody Gardens</td>\n",
       "      <td>29.274486</td>\n",
       "      <td>-94.854309</td>\n",
       "      <td>11</td>\n",
       "    </tr>\n",
       "    <tr>\n",
       "      <th>3</th>\n",
       "      <td>Columbus, TX  78934, Columbus US-TX (29.8000,-...</td>\n",
       "      <td>29.800024</td>\n",
       "      <td>-96.543304</td>\n",
       "      <td>9</td>\n",
       "    </tr>\n",
       "    <tr>\n",
       "      <th>4</th>\n",
       "      <td>River Legacy Park</td>\n",
       "      <td>32.782845</td>\n",
       "      <td>-97.116317</td>\n",
       "      <td>8</td>\n",
       "    </tr>\n",
       "    <tr>\n",
       "      <th>5</th>\n",
       "      <td>Estero Llano Grande SP WBC (LTC 054)</td>\n",
       "      <td>26.126030</td>\n",
       "      <td>-97.955917</td>\n",
       "      <td>8</td>\n",
       "    </tr>\n",
       "    <tr>\n",
       "      <th>6</th>\n",
       "      <td>Sarita Rest Area (US77)(LTC 003)</td>\n",
       "      <td>27.133129</td>\n",
       "      <td>-97.792740</td>\n",
       "      <td>7</td>\n",
       "    </tr>\n",
       "    <tr>\n",
       "      <th>7</th>\n",
       "      <td>South Padre Is.--Birding and Nature Center</td>\n",
       "      <td>26.137486</td>\n",
       "      <td>-97.173557</td>\n",
       "      <td>7</td>\n",
       "    </tr>\n",
       "    <tr>\n",
       "      <th>8</th>\n",
       "      <td>Hargill Playa (Hidalgo Co.)</td>\n",
       "      <td>26.446927</td>\n",
       "      <td>-98.006430</td>\n",
       "      <td>7</td>\n",
       "    </tr>\n",
       "    <tr>\n",
       "      <th>9</th>\n",
       "      <td>Home</td>\n",
       "      <td>29.657914</td>\n",
       "      <td>-98.664833</td>\n",
       "      <td>6</td>\n",
       "    </tr>\n",
       "  </tbody>\n",
       "</table>\n",
       "</div>"
      ],
      "text/plain": [
       "                                             locName        lat        lng  \\\n",
       "0  South Padre Is.--WBC/Conv. Center/Laguna Madre...  26.140091 -97.174823   \n",
       "1               Salineño Wildlife Preserve (LTC 080)  26.514858 -99.116206   \n",
       "2                           Galveston--Moody Gardens  29.274486 -94.854309   \n",
       "3  Columbus, TX  78934, Columbus US-TX (29.8000,-...  29.800024 -96.543304   \n",
       "4                                  River Legacy Park  32.782845 -97.116317   \n",
       "5               Estero Llano Grande SP WBC (LTC 054)  26.126030 -97.955917   \n",
       "6                   Sarita Rest Area (US77)(LTC 003)  27.133129 -97.792740   \n",
       "7         South Padre Is.--Birding and Nature Center  26.137486 -97.173557   \n",
       "8                        Hargill Playa (Hidalgo Co.)  26.446927 -98.006430   \n",
       "9                                               Home  29.657914 -98.664833   \n",
       "\n",
       "   species_number  \n",
       "0              19  \n",
       "1              13  \n",
       "2              11  \n",
       "3               9  \n",
       "4               8  \n",
       "5               8  \n",
       "6               7  \n",
       "7               7  \n",
       "8               7  \n",
       "9               6  "
      ]
     },
     "execution_count": 27,
     "metadata": {},
     "output_type": "execute_result"
    }
   ],
   "source": []
  },
  {
   "cell_type": "code",
   "execution_count": 29,
   "metadata": {},
   "outputs": [
    {
     "data": {
      "text/plain": [
       "'[{\"locName\":\"South Padre Is.--WBC/Conv. Center/Laguna Madre Trail (LTC 035)\",\"lat\":26.1400912,\"lng\":-97.1748233,\"species_number\":19},{\"locName\":\"Salineño Wildlife Preserve (LTC 080)\",\"lat\":26.5148584,\"lng\":-99.1162062,\"species_number\":13},{\"locName\":\"Galveston--Moody Gardens\",\"lat\":29.2744864,\"lng\":-94.8543092,\"species_number\":11},{\"locName\":\"Columbus, TX  78934, Columbus US-TX (29.8000,-96.5433)\",\"lat\":29.800024,\"lng\":-96.543304,\"species_number\":9},{\"locName\":\"River Legacy Park\",\"lat\":32.7828445,\"lng\":-97.1163169,\"species_number\":8},{\"locName\":\"Estero Llano Grande SP WBC (LTC 054)\",\"lat\":26.1260304,\"lng\":-97.9559173,\"species_number\":8},{\"locName\":\"Sarita Rest Area (US77)(LTC 003)\",\"lat\":27.1331291,\"lng\":-97.7927399,\"species_number\":7},{\"locName\":\"South Padre Is.--Birding and Nature Center\",\"lat\":26.1374859,\"lng\":-97.1735573,\"species_number\":7},{\"locName\":\"Hargill Playa (Hidalgo Co.)\",\"lat\":26.446927,\"lng\":-98.00643,\"species_number\":7},{\"locName\":\"Home\",\"lat\":29.6579139,\"lng\":-98.6648333,\"species_number\":6}]'"
      ]
     },
     "execution_count": 29,
     "metadata": {},
     "output_type": "execute_result"
    }
   ],
   "source": []
  }
 ],
 "metadata": {
  "kernelspec": {
   "display_name": "Python 3",
   "language": "python",
   "name": "python3"
  },
  "language_info": {
   "codemirror_mode": {
    "name": "ipython",
    "version": 3
   },
   "file_extension": ".py",
   "mimetype": "text/x-python",
   "name": "python",
   "nbconvert_exporter": "python",
   "pygments_lexer": "ipython3",
   "version": "3.6.2"
  }
 },
 "nbformat": 4,
 "nbformat_minor": 2
}
