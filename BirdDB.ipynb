{
 "cells": [
  {
   "cell_type": "code",
   "execution_count": 2,
   "metadata": {
    "collapsed": true
   },
   "outputs": [],
   "source": [
    "# Import dependencies\n",
    "import pandas as pd\n",
    "import sqlalchemy\n",
    "from sqlalchemy import create_engine, MetaData\n",
    "from sqlalchemy.ext.declarative import declarative_base\n",
    "from sqlalchemy import Column, Integer, String, Numeric, Text, Float, ForeignKey, Boolean\n",
    "from sqlalchemy.orm import sessionmaker, relationship"
   ]
  },
  {
   "cell_type": "code",
   "execution_count": 3,
   "metadata": {
    "collapsed": true
   },
   "outputs": [],
   "source": [
    "# Create engine\n",
    "engine = create_engine(\"sqlite:///birds.sqlite\")"
   ]
  },
  {
   "cell_type": "code",
   "execution_count": 4,
   "metadata": {
    "collapsed": true
   },
   "outputs": [],
   "source": [
    "# Declaring a base object to model the table as an ORM class\n",
    "Base = declarative_base()"
   ]
  },
  {
   "cell_type": "code",
   "execution_count": 5,
   "metadata": {},
   "outputs": [],
   "source": [
    "# Define ORM class for `regions` table\n",
    "class Regions(Base):\n",
    "    \n",
    "    __tablename__ = 'regions'\n",
    "\n",
    "    id = Column(Integer, primary_key=True)\n",
    "    state_abbr = Column(Text)\n",
    "    region = Column(Text)\n",
    "    region2 = Column(Text)\n",
    "    state = Column(Text)\n",
    "    \n",
    "    def __repr__(self):\n",
    "        return f\"id={self.id}, name={self.state_abbr}\""
   ]
  },
  {
   "cell_type": "code",
   "execution_count": 6,
   "metadata": {},
   "outputs": [],
   "source": [
    "# Define ORM class for `speciesList` table\n",
    "class Species(Base):\n",
    "    \n",
    "    __tablename__ = 'species'\n",
    "\n",
    "    id = Column(Integer, primary_key=True)\n",
    "    Scientific_Name = Column(Text)\n",
    "    Common_Name = Column(Text)\n",
    "    Species_Code = Column(Text)\n",
    "    Order = Column(Text)\n",
    "    \n",
    "    def __repr__(self):\n",
    "        return f\"id={self.id}, name={self.ScientificName}\""
   ]
  },
  {
   "cell_type": "code",
   "execution_count": 7,
   "metadata": {
    "collapsed": true
   },
   "outputs": [],
   "source": [
    "# !rm birds.sqlite"
   ]
  },
  {
   "cell_type": "code",
   "execution_count": 8,
   "metadata": {
    "collapsed": true
   },
   "outputs": [],
   "source": [
    "# Creating the table with `create_all`\n",
    "Base.metadata.create_all(engine)"
   ]
  },
  {
   "cell_type": "code",
   "execution_count": 9,
   "metadata": {},
   "outputs": [
    {
     "data": {
      "text/plain": [
       "['regions', 'species']"
      ]
     },
     "execution_count": 9,
     "metadata": {},
     "output_type": "execute_result"
    }
   ],
   "source": [
    "# Verifying table names in the database\n",
    "engine.table_names()"
   ]
  },
  {
   "cell_type": "code",
   "execution_count": 10,
   "metadata": {},
   "outputs": [],
   "source": [
    "# Bulk insert each file into their respective table\n",
    "def populate_table(engine, table, csvfile):\n",
    "    \"\"\"Populates a table from a Pandas DataFrame.\"\"\"\n",
    "    # connect to the database\n",
    "    conn = engine.connect()\n",
    "    \n",
    "    # Load the CSV file into a pandas dataframe \n",
    "    df_of_data_to_insert = pd.read_csv(csvfile, encoding = \"utf8\")\n",
    "    \n",
    "    # Orient='records' creates a list of data to write\n",
    "    # http://pandas-docs.github.io/pandas-docs-travis/io.html#orient-options\n",
    "    data = df_of_data_to_insert.to_dict(orient='records')\n",
    "\n",
    "    # Optional: Delete all rows in the table \n",
    "    conn.execute(table.delete())\n",
    "\n",
    "    # Insert the dataframe into the database in one bulk insert\n",
    "    conn.execute(table.insert(), data)\n",
    "    \n",
    "# Call the function to insert the data for each table\n",
    "populate_table(engine, Regions.__table__, 'data/regions.csv')\n",
    "populate_table(engine, Species.__table__, 'data/clean_speciesList.csv')"
   ]
  },
  {
   "cell_type": "code",
   "execution_count": 11,
   "metadata": {},
   "outputs": [
    {
     "data": {
      "text/plain": [
       "[(1, 'AK', 'Alaska', 'Alaska', 'Alaska'),\n",
       " (2, 'KS', 'Midwest', 'Central Plains', 'Kansas'),\n",
       " (3, 'NE', 'Midwest', 'Central Plains', 'Nebraska'),\n",
       " (4, 'OK', 'Midwest', 'Central Plains', 'Oklahoma'),\n",
       " (5, 'MI', 'Midwest', 'Great Lakes', 'Michigan')]"
      ]
     },
     "execution_count": 11,
     "metadata": {},
     "output_type": "execute_result"
    }
   ],
   "source": [
    "# Basic query to ensure data was entered correctly into the table `regions`\n",
    "engine.execute(\"SELECT * FROM regions LIMIT 5\").fetchall()"
   ]
  },
  {
   "cell_type": "code",
   "execution_count": 12,
   "metadata": {},
   "outputs": [
    {
     "data": {
      "text/plain": [
       "[(1, 'Struthio camelus', 'Common Ostrich', 'ostric2', 'Struthioniformes'),\n",
       " (2, 'Struthio molybdophanes', 'Somali Ostrich', 'ostric3', 'Struthioniformes'),\n",
       " (3, 'Struthio camelus/molybdophanes', 'Common/Somali Ostrich', 'y00934', 'Struthioniformes'),\n",
       " (4, 'Rhea americana', 'Greater Rhea', 'grerhe1', 'Rheiformes'),\n",
       " (5, 'Rhea pennata', 'Lesser Rhea', 'lesrhe2', 'Rheiformes')]"
      ]
     },
     "execution_count": 12,
     "metadata": {},
     "output_type": "execute_result"
    }
   ],
   "source": [
    "# Basic query to ensure data was entered correctly into the table `species`\n",
    "engine.execute(\"SELECT * FROM species LIMIT 5\").fetchall()"
   ]
  },
  {
   "cell_type": "code",
   "execution_count": null,
   "metadata": {
    "collapsed": true
   },
   "outputs": [],
   "source": []
  }
 ],
 "metadata": {
  "kernelspec": {
   "display_name": "Python 3",
   "language": "python",
   "name": "python3"
  },
  "language_info": {
   "codemirror_mode": {
    "name": "ipython",
    "version": 3
   },
   "file_extension": ".py",
   "mimetype": "text/x-python",
   "name": "python",
   "nbconvert_exporter": "python",
   "pygments_lexer": "ipython3",
   "version": "3.6.2"
  }
 },
 "nbformat": 4,
 "nbformat_minor": 2
}
