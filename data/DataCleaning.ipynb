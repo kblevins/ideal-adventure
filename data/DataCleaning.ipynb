{
 "cells": [
  {
   "cell_type": "code",
   "execution_count": 1,
   "metadata": {
    "collapsed": true
   },
   "outputs": [],
   "source": [
    "import pandas as pd"
   ]
  },
  {
   "cell_type": "code",
   "execution_count": 6,
   "metadata": {},
   "outputs": [],
   "source": [
    "speciesList = pd.read_csv(\"speciesList.csv\", encoding='Latin-1')"
   ]
  },
  {
   "cell_type": "code",
   "execution_count": 7,
   "metadata": {
    "collapsed": true
   },
   "outputs": [],
   "source": [
    "speciesList.to_csv(\"clean_speciesList.csv\", encoding=None)"
   ]
  },
  {
   "cell_type": "code",
   "execution_count": 11,
   "metadata": {},
   "outputs": [
    {
     "data": {
      "text/html": [
       "<div>\n",
       "<style>\n",
       "    .dataframe thead tr:only-child th {\n",
       "        text-align: right;\n",
       "    }\n",
       "\n",
       "    .dataframe thead th {\n",
       "        text-align: left;\n",
       "    }\n",
       "\n",
       "    .dataframe tbody tr th {\n",
       "        vertical-align: top;\n",
       "    }\n",
       "</style>\n",
       "<table border=\"1\" class=\"dataframe\">\n",
       "  <thead>\n",
       "    <tr style=\"text-align: right;\">\n",
       "      <th></th>\n",
       "      <th>SCIENTIFIC_NAME</th>\n",
       "      <th>COMMON_NAME</th>\n",
       "      <th>SPECIES_CODE</th>\n",
       "      <th>ORDER</th>\n",
       "    </tr>\n",
       "  </thead>\n",
       "  <tbody>\n",
       "    <tr>\n",
       "      <th>0</th>\n",
       "      <td>Struthio camelus</td>\n",
       "      <td>Common Ostrich</td>\n",
       "      <td>ostric2</td>\n",
       "      <td>Struthioniformes</td>\n",
       "    </tr>\n",
       "    <tr>\n",
       "      <th>1</th>\n",
       "      <td>Struthio molybdophanes</td>\n",
       "      <td>Somali Ostrich</td>\n",
       "      <td>ostric3</td>\n",
       "      <td>Struthioniformes</td>\n",
       "    </tr>\n",
       "    <tr>\n",
       "      <th>2</th>\n",
       "      <td>Struthio camelus/molybdophanes</td>\n",
       "      <td>Common/Somali Ostrich</td>\n",
       "      <td>y00934</td>\n",
       "      <td>Struthioniformes</td>\n",
       "    </tr>\n",
       "    <tr>\n",
       "      <th>3</th>\n",
       "      <td>Rhea americana</td>\n",
       "      <td>Greater Rhea</td>\n",
       "      <td>grerhe1</td>\n",
       "      <td>Rheiformes</td>\n",
       "    </tr>\n",
       "    <tr>\n",
       "      <th>4</th>\n",
       "      <td>Rhea pennata</td>\n",
       "      <td>Lesser Rhea</td>\n",
       "      <td>lesrhe2</td>\n",
       "      <td>Rheiformes</td>\n",
       "    </tr>\n",
       "  </tbody>\n",
       "</table>\n",
       "</div>"
      ],
      "text/plain": [
       "                  SCIENTIFIC_NAME            COMMON_NAME SPECIES_CODE  \\\n",
       "0                Struthio camelus         Common Ostrich      ostric2   \n",
       "1          Struthio molybdophanes         Somali Ostrich      ostric3   \n",
       "2  Struthio camelus/molybdophanes  Common/Somali Ostrich       y00934   \n",
       "3                  Rhea americana           Greater Rhea      grerhe1   \n",
       "4                    Rhea pennata            Lesser Rhea      lesrhe2   \n",
       "\n",
       "              ORDER  \n",
       "0  Struthioniformes  \n",
       "1  Struthioniformes  \n",
       "2  Struthioniformes  \n",
       "3        Rheiformes  \n",
       "4        Rheiformes  "
      ]
     },
     "execution_count": 11,
     "metadata": {},
     "output_type": "execute_result"
    }
   ],
   "source": [
    "speciesList.head()"
   ]
  },
  {
   "cell_type": "code",
   "execution_count": 15,
   "metadata": {},
   "outputs": [],
   "source": [
    "speciesList.rename(index=None, inplace=True, columns={\"SCIENTIFIC_NAME\" : \"Scientific_Name\", \"COMMON_NAME\": \"Common_Name\",\n",
    "                                       \"SPECIES_CODE\": \"Species_Code\", \"ORDER\": \"Order\"})"
   ]
  },
  {
   "cell_type": "code",
   "execution_count": 17,
   "metadata": {},
   "outputs": [
    {
     "data": {
      "text/html": [
       "<div>\n",
       "<style>\n",
       "    .dataframe thead tr:only-child th {\n",
       "        text-align: right;\n",
       "    }\n",
       "\n",
       "    .dataframe thead th {\n",
       "        text-align: left;\n",
       "    }\n",
       "\n",
       "    .dataframe tbody tr th {\n",
       "        vertical-align: top;\n",
       "    }\n",
       "</style>\n",
       "<table border=\"1\" class=\"dataframe\">\n",
       "  <thead>\n",
       "    <tr style=\"text-align: right;\">\n",
       "      <th></th>\n",
       "      <th>Scientific_Name</th>\n",
       "      <th>Common_Name</th>\n",
       "      <th>Species_Code</th>\n",
       "      <th>Order</th>\n",
       "    </tr>\n",
       "  </thead>\n",
       "  <tbody>\n",
       "    <tr>\n",
       "      <th>0</th>\n",
       "      <td>Struthio camelus</td>\n",
       "      <td>Common Ostrich</td>\n",
       "      <td>ostric2</td>\n",
       "      <td>Struthioniformes</td>\n",
       "    </tr>\n",
       "    <tr>\n",
       "      <th>1</th>\n",
       "      <td>Struthio molybdophanes</td>\n",
       "      <td>Somali Ostrich</td>\n",
       "      <td>ostric3</td>\n",
       "      <td>Struthioniformes</td>\n",
       "    </tr>\n",
       "    <tr>\n",
       "      <th>2</th>\n",
       "      <td>Struthio camelus/molybdophanes</td>\n",
       "      <td>Common/Somali Ostrich</td>\n",
       "      <td>y00934</td>\n",
       "      <td>Struthioniformes</td>\n",
       "    </tr>\n",
       "    <tr>\n",
       "      <th>3</th>\n",
       "      <td>Rhea americana</td>\n",
       "      <td>Greater Rhea</td>\n",
       "      <td>grerhe1</td>\n",
       "      <td>Rheiformes</td>\n",
       "    </tr>\n",
       "    <tr>\n",
       "      <th>4</th>\n",
       "      <td>Rhea pennata</td>\n",
       "      <td>Lesser Rhea</td>\n",
       "      <td>lesrhe2</td>\n",
       "      <td>Rheiformes</td>\n",
       "    </tr>\n",
       "  </tbody>\n",
       "</table>\n",
       "</div>"
      ],
      "text/plain": [
       "                  Scientific_Name            Common_Name Species_Code  \\\n",
       "0                Struthio camelus         Common Ostrich      ostric2   \n",
       "1          Struthio molybdophanes         Somali Ostrich      ostric3   \n",
       "2  Struthio camelus/molybdophanes  Common/Somali Ostrich       y00934   \n",
       "3                  Rhea americana           Greater Rhea      grerhe1   \n",
       "4                    Rhea pennata            Lesser Rhea      lesrhe2   \n",
       "\n",
       "              Order  \n",
       "0  Struthioniformes  \n",
       "1  Struthioniformes  \n",
       "2  Struthioniformes  \n",
       "3        Rheiformes  \n",
       "4        Rheiformes  "
      ]
     },
     "execution_count": 17,
     "metadata": {},
     "output_type": "execute_result"
    }
   ],
   "source": [
    "speciesList.head()"
   ]
  },
  {
   "cell_type": "code",
   "execution_count": 18,
   "metadata": {
    "collapsed": true
   },
   "outputs": [],
   "source": [
    "speciesList.to_csv(\"clean_speciesList.csv\", encoding=None)"
   ]
  },
  {
   "cell_type": "code",
   "execution_count": null,
   "metadata": {
    "collapsed": true
   },
   "outputs": [],
   "source": []
  }
 ],
 "metadata": {
  "kernelspec": {
   "display_name": "Python 3",
   "language": "python",
   "name": "python3"
  },
  "language_info": {
   "codemirror_mode": {
    "name": "ipython",
    "version": 3
   },
   "file_extension": ".py",
   "mimetype": "text/x-python",
   "name": "python",
   "nbconvert_exporter": "python",
   "pygments_lexer": "ipython3",
   "version": "3.6.2"
  }
 },
 "nbformat": 4,
 "nbformat_minor": 2
}
